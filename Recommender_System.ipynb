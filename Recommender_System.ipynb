{
 "cells": [
  {
   "cell_type": "code",
   "execution_count": 1,
   "metadata": {},
   "outputs": [],
   "source": [
    "from sklearn.metrics.pairwise import cosine_similarity\n",
    "import pandas as pd\n",
    "import numpy as np\n",
    "import math"
   ]
  },
  {
   "cell_type": "markdown",
   "metadata": {},
   "source": [
    "DATATSET MovieLens 100K Ratings https://grouplens.org/datasets/movielens/100k/"
   ]
  },
  {
   "cell_type": "code",
   "execution_count": 2,
   "metadata": {},
   "outputs": [],
   "source": [
    "col_names = ['user_id', 'item_id', 'rating']\n",
    "# u1.base is a tab separated list of user id | item id | rating | timestamp. \n",
    "ratings = pd.read_csv('ml-100k//u1.base', sep = '\\t' , names=col_names, usecols = [0, 1, 2] )"
   ]
  },
  {
   "cell_type": "code",
   "execution_count": 3,
   "metadata": {},
   "outputs": [
    {
     "data": {
      "text/html": [
       "<div>\n",
       "<style scoped>\n",
       "    .dataframe tbody tr th:only-of-type {\n",
       "        vertical-align: middle;\n",
       "    }\n",
       "\n",
       "    .dataframe tbody tr th {\n",
       "        vertical-align: top;\n",
       "    }\n",
       "\n",
       "    .dataframe thead th {\n",
       "        text-align: right;\n",
       "    }\n",
       "</style>\n",
       "<table border=\"1\" class=\"dataframe\">\n",
       "  <thead>\n",
       "    <tr style=\"text-align: right;\">\n",
       "      <th></th>\n",
       "      <th>user_id</th>\n",
       "      <th>item_id</th>\n",
       "      <th>rating</th>\n",
       "    </tr>\n",
       "  </thead>\n",
       "  <tbody>\n",
       "    <tr>\n",
       "      <th>0</th>\n",
       "      <td>1</td>\n",
       "      <td>1</td>\n",
       "      <td>5</td>\n",
       "    </tr>\n",
       "    <tr>\n",
       "      <th>1</th>\n",
       "      <td>1</td>\n",
       "      <td>2</td>\n",
       "      <td>3</td>\n",
       "    </tr>\n",
       "    <tr>\n",
       "      <th>2</th>\n",
       "      <td>1</td>\n",
       "      <td>3</td>\n",
       "      <td>4</td>\n",
       "    </tr>\n",
       "    <tr>\n",
       "      <th>3</th>\n",
       "      <td>1</td>\n",
       "      <td>4</td>\n",
       "      <td>3</td>\n",
       "    </tr>\n",
       "    <tr>\n",
       "      <th>4</th>\n",
       "      <td>1</td>\n",
       "      <td>5</td>\n",
       "      <td>3</td>\n",
       "    </tr>\n",
       "  </tbody>\n",
       "</table>\n",
       "</div>"
      ],
      "text/plain": [
       "   user_id  item_id  rating\n",
       "0        1        1       5\n",
       "1        1        2       3\n",
       "2        1        3       4\n",
       "3        1        4       3\n",
       "4        1        5       3"
      ]
     },
     "execution_count": 3,
     "metadata": {},
     "output_type": "execute_result"
    }
   ],
   "source": [
    "ratings.head()"
   ]
  },
  {
   "cell_type": "code",
   "execution_count": 4,
   "metadata": {},
   "outputs": [
    {
     "name": "stdout",
     "output_type": "stream",
     "text": [
      "(943, 1682)\n"
     ]
    }
   ],
   "source": [
    "# Shape of the feature matrix\n",
    "s = (ratings['user_id'].max(), ratings['item_id'].max())\n",
    "print(s)\n",
    "# Initializing the feature matrix\n",
    "feature_matrix = np.zeros(s)"
   ]
  },
  {
   "cell_type": "code",
   "execution_count": 5,
   "metadata": {},
   "outputs": [],
   "source": [
    "# Filing values in the feature matrix\n",
    "# -1 since index starts from 0 and id starts from 1\n",
    "for index, row in ratings.iterrows():\n",
    "    feature_matrix[row['user_id'] - 1, row['item_id'] - 1] = row['rating']"
   ]
  },
  {
   "cell_type": "code",
   "execution_count": 6,
   "metadata": {},
   "outputs": [
    {
     "data": {
      "text/plain": [
       "array([[5., 3., 4., ..., 0., 0., 0.],\n",
       "       [4., 0., 0., ..., 0., 0., 0.],\n",
       "       [0., 0., 0., ..., 0., 0., 0.],\n",
       "       [0., 0., 0., ..., 0., 0., 0.],\n",
       "       [0., 0., 0., ..., 0., 0., 0.]])"
      ]
     },
     "execution_count": 6,
     "metadata": {},
     "output_type": "execute_result"
    }
   ],
   "source": [
    "feature_matrix[:5]"
   ]
  },
  {
   "cell_type": "code",
   "execution_count": 7,
   "metadata": {},
   "outputs": [],
   "source": [
    "s = (ratings['user_id'].max(), ratings['item_id'].max())\n",
    "user_movie_normalized = [] \n",
    "u_mean = []\n",
    "u_variance = []\n",
    "for user_rating in feature_matrix:\n",
    "\n",
    "    # Number of movies rated by the user (non-zero ratings)\n",
    "    Num_user_nonzero_rat = (user_rating > 0).sum()\n",
    "\n",
    "    # Sum of all the ratings given by the user\n",
    "    User_rat_sum = user_rating.sum()\n",
    "    \n",
    "    # Calculating the average rating given by the user\n",
    "    user_mean_rat = User_rat_sum / Num_user_nonzero_rat\n",
    "    u_mean.append(user_mean_rat)\n",
    "\n",
    "    # Calculating sum of square of all the ratings given by the user\n",
    "    squared_rat_sum = (np.square(user_rating)).sum()\n",
    "     \n",
    "    # Calculating the varianve of the rating given by the user\n",
    "    user_variance_rat = (squared_rat_sum / Num_user_nonzero_rat) - (user_mean_rat**2)\n",
    "    u_variance.append(user_variance_rat)\n",
    "    \n",
    "    # Calculating the new normalized rating for the user\n",
    "    user_rat_norm = (user_rating - user_mean_rat) / user_variance_rat\n",
    "    user_movie_normalized.append(user_rat_norm)"
   ]
  },
  {
   "cell_type": "code",
   "execution_count": 8,
   "metadata": {},
   "outputs": [
    {
     "data": {
      "text/plain": [
       "[array([ 0.8116598 , -0.41950956,  0.19607512, ..., -2.2662636 ,\n",
       "        -2.2662636 , -2.2662636 ]),\n",
       " array([ 0.20833333, -3.95833333, -3.95833333, ..., -3.95833333,\n",
       "        -3.95833333, -3.95833333]),\n",
       " array([-1.82608696, -1.82608696, -1.82608696, ..., -1.82608696,\n",
       "        -1.82608696, -1.82608696]),\n",
       " array([-4.61621622, -4.61621622, -4.61621622, ..., -4.61621622,\n",
       "        -4.61621622, -4.61621622]),\n",
       " array([-1.5299375, -1.5299375, -1.5299375, ..., -1.5299375, -1.5299375,\n",
       "        -1.5299375])]"
      ]
     },
     "execution_count": 8,
     "metadata": {},
     "output_type": "execute_result"
    }
   ],
   "source": [
    "user_movie_normalized[:5]"
   ]
  }
 ],
 "metadata": {
  "kernelspec": {
   "display_name": "Python 3",
   "language": "python",
   "name": "python3"
  },
  "language_info": {
   "codemirror_mode": {
    "name": "ipython",
    "version": 3
   },
   "file_extension": ".py",
   "mimetype": "text/x-python",
   "name": "python",
   "nbconvert_exporter": "python",
   "pygments_lexer": "ipython3",
   "version": "3.5.0"
  }
 },
 "nbformat": 4,
 "nbformat_minor": 2
}
