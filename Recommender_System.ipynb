{
 "cells": [
  {
   "cell_type": "code",
   "execution_count": 1,
   "metadata": {},
   "outputs": [],
   "source": [
    "from sklearn.metrics.pairwise import cosine_similarity\n",
    "import pandas as pd\n",
    "import numpy as np\n",
    "import math"
   ]
  },
  {
   "cell_type": "markdown",
   "metadata": {},
   "source": [
    "DATATSET MovieLens 100K Ratings https://grouplens.org/datasets/movielens/100k/"
   ]
  },
  {
   "cell_type": "code",
   "execution_count": 2,
   "metadata": {},
   "outputs": [],
   "source": [
    "col_names = ['user_id', 'item_id', 'rating']\n",
    "# u1.base is a tab separated list of user id | item id | rating | timestamp. \n",
    "ratings = pd.read_csv('ml-100k//u1.base', sep = '\\t' , names=col_names, usecols = [0, 1, 2] )"
   ]
  },
  {
   "cell_type": "code",
   "execution_count": 3,
   "metadata": {},
   "outputs": [
    {
     "data": {
      "text/html": [
       "<div>\n",
       "<style scoped>\n",
       "    .dataframe tbody tr th:only-of-type {\n",
       "        vertical-align: middle;\n",
       "    }\n",
       "\n",
       "    .dataframe tbody tr th {\n",
       "        vertical-align: top;\n",
       "    }\n",
       "\n",
       "    .dataframe thead th {\n",
       "        text-align: right;\n",
       "    }\n",
       "</style>\n",
       "<table border=\"1\" class=\"dataframe\">\n",
       "  <thead>\n",
       "    <tr style=\"text-align: right;\">\n",
       "      <th></th>\n",
       "      <th>user_id</th>\n",
       "      <th>item_id</th>\n",
       "      <th>rating</th>\n",
       "    </tr>\n",
       "  </thead>\n",
       "  <tbody>\n",
       "    <tr>\n",
       "      <th>0</th>\n",
       "      <td>1</td>\n",
       "      <td>1</td>\n",
       "      <td>5</td>\n",
       "    </tr>\n",
       "    <tr>\n",
       "      <th>1</th>\n",
       "      <td>1</td>\n",
       "      <td>2</td>\n",
       "      <td>3</td>\n",
       "    </tr>\n",
       "    <tr>\n",
       "      <th>2</th>\n",
       "      <td>1</td>\n",
       "      <td>3</td>\n",
       "      <td>4</td>\n",
       "    </tr>\n",
       "    <tr>\n",
       "      <th>3</th>\n",
       "      <td>1</td>\n",
       "      <td>4</td>\n",
       "      <td>3</td>\n",
       "    </tr>\n",
       "    <tr>\n",
       "      <th>4</th>\n",
       "      <td>1</td>\n",
       "      <td>5</td>\n",
       "      <td>3</td>\n",
       "    </tr>\n",
       "  </tbody>\n",
       "</table>\n",
       "</div>"
      ],
      "text/plain": [
       "   user_id  item_id  rating\n",
       "0        1        1       5\n",
       "1        1        2       3\n",
       "2        1        3       4\n",
       "3        1        4       3\n",
       "4        1        5       3"
      ]
     },
     "execution_count": 3,
     "metadata": {},
     "output_type": "execute_result"
    }
   ],
   "source": [
    "ratings.head()"
   ]
  },
  {
   "cell_type": "code",
   "execution_count": 4,
   "metadata": {},
   "outputs": [
    {
     "name": "stdout",
     "output_type": "stream",
     "text": [
      "(943, 1682)\n"
     ]
    }
   ],
   "source": [
    "# Shape of the feature matrix\n",
    "s = (ratings['user_id'].max(), ratings['item_id'].max())\n",
    "print(s)\n",
    "# Initializing the feature matrix\n",
    "feature_matrix = np.zeros(s)"
   ]
  },
  {
   "cell_type": "code",
   "execution_count": 5,
   "metadata": {},
   "outputs": [],
   "source": [
    "# Filing values in the feature matrix\n",
    "# -1 since index starts from 0 and id starts from 1\n",
    "for index, row in ratings.iterrows():\n",
    "    feature_matrix[row['user_id'] - 1, row['item_id'] - 1] = row['rating']"
   ]
  },
  {
   "cell_type": "code",
   "execution_count": 6,
   "metadata": {},
   "outputs": [
    {
     "data": {
      "text/plain": [
       "array([[5., 3., 4., ..., 0., 0., 0.],\n",
       "       [4., 0., 0., ..., 0., 0., 0.],\n",
       "       [0., 0., 0., ..., 0., 0., 0.],\n",
       "       [0., 0., 0., ..., 0., 0., 0.],\n",
       "       [0., 0., 0., ..., 0., 0., 0.]])"
      ]
     },
     "execution_count": 6,
     "metadata": {},
     "output_type": "execute_result"
    }
   ],
   "source": [
    "feature_matrix[:5]"
   ]
  },
  {
   "cell_type": "code",
   "execution_count": 7,
   "metadata": {},
   "outputs": [],
   "source": [
    "s = (ratings['user_id'].max(), ratings['item_id'].max())\n",
    "user_movie_normalized = [] \n",
    "u_mean = []\n",
    "u_variance = []\n",
    "for user_rating in feature_matrix:\n",
    "\n",
    "    # Number of movies rated by the user (non-zero ratings)\n",
    "    Num_user_nonzero_rat = (user_rating > 0).sum()\n",
    "\n",
    "    # Sum of all the ratings given by the user\n",
    "    User_rat_sum = user_rating.sum()\n",
    "    \n",
    "    # Calculating the average rating given by the user\n",
    "    user_mean_rat = User_rat_sum / Num_user_nonzero_rat\n",
    "    u_mean.append(user_mean_rat)\n",
    "\n",
    "    # Calculating sum of square of all the ratings given by the user\n",
    "    squared_rat_sum = (np.square(user_rating)).sum()\n",
    "     \n",
    "    # Calculating the varianve of the rating given by the user\n",
    "    user_variance_rat = (squared_rat_sum / Num_user_nonzero_rat) - (user_mean_rat**2)\n",
    "    u_variance.append(user_variance_rat)\n",
    "    \n",
    "    # Calculating the new normalized rating for the user\n",
    "    user_rat_norm = (user_rating - user_mean_rat) / user_variance_rat\n",
    "    user_movie_normalized.append(user_rat_norm)"
   ]
  },
  {
   "cell_type": "code",
   "execution_count": 8,
   "metadata": {},
   "outputs": [
    {
     "data": {
      "text/plain": [
       "[array([ 0.8116598 , -0.41950956,  0.19607512, ..., -2.2662636 ,\n",
       "        -2.2662636 , -2.2662636 ]),\n",
       " array([ 0.20833333, -3.95833333, -3.95833333, ..., -3.95833333,\n",
       "        -3.95833333, -3.95833333]),\n",
       " array([-1.82608696, -1.82608696, -1.82608696, ..., -1.82608696,\n",
       "        -1.82608696, -1.82608696]),\n",
       " array([-4.61621622, -4.61621622, -4.61621622, ..., -4.61621622,\n",
       "        -4.61621622, -4.61621622]),\n",
       " array([-1.5299375, -1.5299375, -1.5299375, ..., -1.5299375, -1.5299375,\n",
       "        -1.5299375])]"
      ]
     },
     "execution_count": 8,
     "metadata": {},
     "output_type": "execute_result"
    }
   ],
   "source": [
    "user_movie_normalized[:5]"
   ]
  },
  {
   "cell_type": "code",
   "execution_count": 9,
   "metadata": {},
   "outputs": [],
   "source": [
    "# Calculating the user to user similarity\n",
    "usersim_shape = (ratings['user_id'].max(), ratings['user_id'].max()) \n",
    "user_similarity = np.zeros(usersim_shape)\n",
    "\n",
    "for u in range(ratings['user_id'].max()): \n",
    "    for v in range(ratings['user_id'].max()): \n",
    "        if(u == v): \n",
    "            continue \n",
    "        # Boolean array of True and False where the movie is a common movie for u and v\n",
    "        common_movies_index = (feature_matrix[u] * feature_matrix[v]) > 0 \n",
    "        # Number of common movies for u and v\n",
    "        num_common_movies = common_movies_index.sum() \n",
    "        # sum of the product of the normalized ratings for the common movies             \n",
    "        sum_prod_norm_rat = (user_movie_normalized[u] * user_movie_normalized[v])[common_movies_index].sum()\n",
    "        \n",
    "        # Similarty of user u and v is the sum of product of the normalized rating of u and v divided by the num of common movies\n",
    "        if (num_common_movies > 0):\n",
    "            user_similarity[u][v] = (1 / num_common_movies) * (sum_prod_norm_rat)"
   ]
  },
  {
   "cell_type": "code",
   "execution_count": 10,
   "metadata": {},
   "outputs": [
    {
     "data": {
      "text/plain": [
       "array([[ 0.        ,  0.22451108,  0.1646846 , ...,  0.42424583,\n",
       "        -0.23412292,  0.15863642],\n",
       "       [ 0.22451108,  0.        ,  0.08454106, ...,  0.03686327,\n",
       "         0.26604887,  0.41697591],\n",
       "       [ 0.1646846 ,  0.08454106,  0.        , ...,  0.39491782,\n",
       "         0.45902404,  0.22769103],\n",
       "       [ 0.39165728, -0.21283784,  0.        , ...,  2.18262445,\n",
       "         0.57717678, -0.3396904 ],\n",
       "       [ 0.08946611,  0.00473958,  0.64392391, ...,  0.63157934,\n",
       "         0.20304425,  0.18622065]])"
      ]
     },
     "execution_count": 10,
     "metadata": {},
     "output_type": "execute_result"
    }
   ],
   "source": [
    "user_similarity[:5]"
   ]
  },
  {
   "cell_type": "code",
   "execution_count": 11,
   "metadata": {},
   "outputs": [],
   "source": [
    "def predict_rating(user_id, movie_id, u_mean, u_variance, user_movie_normalized, user_similarity, feature_matrix):\n",
    "    sum_weighted_rating = 0.0\n",
    "    counter = 0\n",
    "    for v in range(len(user_similarity)):\n",
    "        if(feature_matrix[v][movie_id] == 0): \n",
    "            continue\n",
    "        # sum of the ratings for the movie weighted by the simiarity with user \n",
    "        sum_weighted_rating += (user_similarity[user_id][v] * user_movie_normalized[v][movie_id])\n",
    "        counter += 1\n",
    "        \n",
    "    # None of the users has rated the movie\n",
    "    if counter == 0:\n",
    "        predict_rating = 0\n",
    "    else:\n",
    "        # Get the weighted rating\n",
    "        weighted_rating = sum_weighted_rating / counter\n",
    "        # Predict the rating for the user \n",
    "        predict_rating = u_mean[user_id] + (weighted_rating * u_variance[user_id])\n",
    "        \n",
    "        # If the predicted rating is outside the range, adjust it\n",
    "        if predict_rating < 0:\n",
    "            predict_rating = 0\n",
    "        if predict_rating > 5:\n",
    "            predict_rating = 5\n",
    "    return predict_rating"
   ]
  },
  {
   "cell_type": "code",
   "execution_count": 12,
   "metadata": {},
   "outputs": [],
   "source": [
    "# checking on the test set\n",
    "col_names = ['user_id', 'item_id', 'rating']\n",
    "ratings = pd.read_csv('ml-100k\\\\u1.test', \n",
    "                         sep='\\t', names=col_names, usecols=range(3))"
   ]
  },
  {
   "cell_type": "code",
   "execution_count": 13,
   "metadata": {},
   "outputs": [],
   "source": [
    "predicted_rating = []\n",
    "actual_rating = []\n",
    "for index, row in ratings.iterrows():\n",
    "    # Get predicted rating\n",
    "    predicted_rating.append(predict_rating(row['user_id'] - 1, row['item_id'] - 1, u_mean, u_variance, user_movie_normalized, user_similarity, feature_matrix))\n",
    "    # Get actual rating\n",
    "    actual_rating.append(row['rating'])\n",
    "predicted_rating = np.array(predicted_rating)\n",
    "actual_rating = np.array(actual_rating)"
   ]
  },
  {
   "cell_type": "code",
   "execution_count": 14,
   "metadata": {},
   "outputs": [
    {
     "name": "stdout",
     "output_type": "stream",
     "text": [
      "1.0265019301563407\n"
     ]
    }
   ],
   "source": [
    "rms = math.sqrt(sum(np.square(predicted_rating - actual_rating)) / len(predicted_rating))\n",
    "print(rms)"
   ]
  },
  {
   "cell_type": "code",
   "execution_count": 15,
   "metadata": {},
   "outputs": [
    {
     "data": {
      "text/plain": [
       "3.6043684332196193"
      ]
     },
     "execution_count": 15,
     "metadata": {},
     "output_type": "execute_result"
    }
   ],
   "source": [
    "# Rating for user 2 (index 2-1) and movie 21 (index 21-1)\n",
    "predict_rating(1, 20, u_mean, u_variance, user_movie_normalized, user_similarity, feature_matrix)"
   ]
  }
 ],
 "metadata": {
  "kernelspec": {
   "display_name": "Python 3",
   "language": "python",
   "name": "python3"
  },
  "language_info": {
   "codemirror_mode": {
    "name": "ipython",
    "version": 3
   },
   "file_extension": ".py",
   "mimetype": "text/x-python",
   "name": "python",
   "nbconvert_exporter": "python",
   "pygments_lexer": "ipython3",
   "version": "3.5.0"
  }
 },
 "nbformat": 4,
 "nbformat_minor": 2
}
